{
 "metadata": {
  "name": ""
 },
 "nbformat": 3,
 "nbformat_minor": 0,
 "worksheets": [
  {
   "cells": [
    {
     "cell_type": "code",
     "collapsed": false,
     "input": [
      "import numpy\n",
      "from numpy import random\n",
      "\n",
      "# Make figures bigger.\n",
      "rcParams['figure.figsize'] = [10, 5]\n",
      "rcParams['font.size'] = 22"
     ],
     "language": "python",
     "metadata": {},
     "outputs": [],
     "prompt_number": 24
    },
    {
     "cell_type": "markdown",
     "metadata": {},
     "source": [
      "# Deciding how to act on model data\n",
      "\n",
      "Suppose we have a predictive model for compound potency, and predict the potencies of $N$ molecules the chemists could potentially make, but they only want to make $K < N$ compounds.\n",
      "\n",
      "For concreteness, let's say $N = 20$ and $K = 5$."
     ]
    },
    {
     "cell_type": "markdown",
     "metadata": {},
     "source": [
      "# Toy model\n",
      "\n",
      "First, we define a simple toy model for our experiments.  \n",
      "\n",
      "Let's assume that each compound has a fingerprint vector ${\\bf x} \\in \\Re^M$, and that we model potency (let's call it $\\Delta G$) with a simple quadratic model\n",
      "$$\\Delta G(x) = {\\bf x}^\\mathrm{T} {\\bf A} {\\bf x}$$\n",
      "where the matrix ${\\bf A} \\in \\Re^{M x M}$ is a matrix of parameters.\n",
      "\n",
      "Let's choose $M = 3$ for simplicity, and assume the real data comes from an unknown *true* model given by ${\\bf A}^*$."
     ]
    },
    {
     "cell_type": "code",
     "collapsed": false,
     "input": [
      "M = 3 # dimensionality of model\n",
      "Astar = random.randn(M,M) # true (unknown) parameters\n",
      "\n",
      "# Define our model.\n",
      "def model(x, A):\n",
      "    from numpy import matrix\n",
      "    return (matrix(x) * matrix(A) * matrix(x).T)[0,0]\n",
      "\n",
      "# Define the error in the measurement process.\n",
      "sigma = 0.5 # standard error in measurements\n",
      "def measure(x, A):\n",
      "    return model(x,A) + sigma * random.normal()\n",
      "\n",
      "# Define the compound distribution.\n",
      "def draw_compounds(ncompounds):\n",
      "    x = [ random.randn(M) for compound_index in range(ncompounds)]\n",
      "    return x\n",
      "\n",
      "# Generate a training dataset.\n",
      "ntrain = 20 # number of training examples\n",
      "x_training = draw_compounds(ntrain) # draw compound feature vectors\n",
      "DGobs_training = [ measure(x, Astar) for x in x_training]\n",
      "\n",
      "# Plot the measured values.\n",
      "hist(DGobs_training, 1000);\n",
      "xlabel('$\\Delta G_{obs}$ (kcal/mol)');\n",
      "yticks([]);\n",
      "\n",
      "# Let's say our current potency is at max of training set.\n",
      "DGobs_current = max(DGobs_training)\n",
      "x_current = x_training[argmax(DGobs_training)]"
     ],
     "language": "python",
     "metadata": {},
     "outputs": [
      {
       "metadata": {},
       "output_type": "display_data",
       "png": "[encoded data removed]",
       "text": [
        "<matplotlib.figure.Figure at 0x10cf55fd0>"
       ]
      }
     ],
     "prompt_number": 29
    },
    {
     "cell_type": "markdown",
     "metadata": {},
     "source": [
      "# Training the toy model."
     ]
    },
    {
     "cell_type": "code",
     "collapsed": false,
     "input": [
      "import pymc\n",
      "\n",
      "def make_model(x_training, DGobs_training):\n",
      "    ntrain = len(x_training)\n",
      "    \n",
      "    A = pymc.Normal('A', mu=0.0, tau=1/10., size=[K,K])\n",
      "    x = pymc.Normal('x', mu=0.0, tau=1.0, size=[K,ntrain], observed=True, value=x_train)\n",
      "    precision = pymc.Gamma('precision', alpha=0.1, beta=0.1) # measurement precision\n",
      "    epsilon = pymc.Normal('epsilon', mu=0.0, tau=precision) # measurement noise\n",
      "    \n",
      "    @pymc.deterministic\n",
      "    def DGobs(DGmodel=DGmodel, epsilon=epsilon):\n",
      "        return DGmodel + epsilon\n",
      "\n",
      "    @pymc.stochastic\n",
      "    def c(value=.5, a=a, b=b):\n",
      "        return (value-a)**2/b\n",
      "\n",
      "    return locals()\n",
      "\n",
      "model = pymc.Model(make_model(x_training, DGobs_training))\n",
      "sampler = pymc.Sampler(model, db='ram', name='Sampler', verbose=True)\n",
      "sampler.sample(100)\n",
      "sampler.stats()"
     ],
     "language": "python",
     "metadata": {},
     "outputs": [
      {
       "metadata": {},
       "output_type": "pyout",
       "prompt_number": 58,
       "text": [
        "{'a': {'95% HPD interval': array([ 0.5,  0.5]),\n",
        "  'mc error': 0.0,\n",
        "  'mean': 0.5,\n",
        "  'n': 100,\n",
        "  'quantiles': {2.5: 0.5, 25: 0.5, 50: 0.5, 75: 0.5, 97.5: 0.5},\n",
        "  'standard deviation': 0.0},\n",
        " 'b': {'95% HPD interval': array([ 99.5,  99.5]),\n",
        "  'mc error': 0.0,\n",
        "  'mean': 99.5,\n",
        "  'n': 100,\n",
        "  'quantiles': {2.5: 99.5, 25: 99.5, 50: 99.5, 75: 99.5, 97.5: 99.5},\n",
        "  'standard deviation': 0.0},\n",
        " 'c': {'95% HPD interval': array([ 0.5,  0.5]),\n",
        "  'mc error': 0.0,\n",
        "  'mean': 0.5,\n",
        "  'n': 100,\n",
        "  'quantiles': {2.5: 0.5, 25: 0.5, 50: 0.5, 75: 0.5, 97.5: 0.5},\n",
        "  'standard deviation': 0.0}}"
       ]
      }
     ],
     "prompt_number": 58
    },
    {
     "cell_type": "markdown",
     "metadata": {},
     "source": [
      "# Decision-making\n",
      "\n",
      "Suppose the chemists come up with a list of $N = 20$ molecules they might want to make.\n",
      "\n",
      "Our model makes predictions for these."
     ]
    },
    {
     "cell_type": "code",
     "collapsed": false,
     "input": [
      "N = 20 # number of compounds we could possibly make\n",
      "x_n = draw_compounds(N) # fingerprints for these compounds"
     ],
     "language": "python",
     "metadata": {},
     "outputs": [],
     "prompt_number": 30
    },
    {
     "cell_type": "code",
     "collapsed": false,
     "input": [
      "def model_predictions(x_n, nsample=1000):\n",
      "    DGpredicted_n_samples = [ numpy.zeros([nsample]) for compound_index in range(N) ]\n",
      "    Amodel = Astar + 1.0 * random.randn(M,M) # sample of model parameters\n",
      "    for sample_index in range(nsample):\n",
      "        A = Amodel + 0.2 * random.randn(M,M) # sample of model parameters\n",
      "        for compound_index in range(N):\n",
      "            DGpredicted_n_samples[compound_index][sample_index] = measure(x_n[compound_index], A)\n",
      "    return DGpredicted_n_samples\n",
      "\n",
      "# Make predictions.\n",
      "DGpredicted_n_samples = model_predictions(x_n)\n",
      "\n",
      "# Plot predictions.\n",
      "clf()\n",
      "hold(True)\n",
      "nbins = 20\n",
      "colorlist = cm.ScalarMappable(cmap='jet').to_rgba(linspace(0, 1, N));\n",
      "for compound_index in range(N):\n",
      "    color = colorlist[compound_index]; # get a unique color\n",
      "    hist(DGpredicted_n_samples[compound_index], nbins, alpha=0.5, color=color, edgecolor='none'); # plot the sample histogram\n",
      "hold(False)\n",
      "xlabel('$\\Delta G_{pred}$ (kcal/mol)');\n",
      "ylabel('$P(\\Delta G_{obs})$');\n",
      "yticks([]);\n"
     ],
     "language": "python",
     "metadata": {},
     "outputs": [
      {
       "metadata": {},
       "output_type": "display_data",
       "png": "[encoded data removed]",
       "text": [
        "<matplotlib.figure.Figure at 0x109032950>"
       ]
      }
     ],
     "prompt_number": 49
    },
    {
     "cell_type": "markdown",
     "metadata": {},
     "source": [
      "# Maximizing the expected potency gain.\n",
      "\n",
      "Suppose we want to pick a *single* compound that maximizes the potency gain.  How would we do that?"
     ]
    },
    {
     "cell_type": "code",
     "collapsed": false,
     "input": [
      "DG_n_expectations = [ DGpredicted_n_samples[compound_index].mean() for compound_index in range(N) ]\n",
      "top_choice = argmax(DG_n_expectations)\n",
      "\n",
      "clf()\n",
      "hist(DG_n_expectations, 1000);\n",
      "hold(True);\n",
      "plot([DGobs_current, DGobs_current], [0, 1], 'r-', linewidth=4);\n",
      "plot(DG_n_expectations[top_choice]*numpy.array([1, 1]), [0, 1], 'b-', linewidth=4);\n",
      "xlabel('$E[\\Delta G_\\mathrm{obs}]$');\n",
      "legend(['current compound', 'top expectation']);\n",
      "yticks([]);"
     ],
     "language": "python",
     "metadata": {},
     "outputs": [
      {
       "metadata": {},
       "output_type": "display_data",
       "png": "[encoded data removed]",
       "text": [
        "<matplotlib.figure.Figure at 0x108777850>"
       ]
      }
     ],
     "prompt_number": 50
    },
    {
     "cell_type": "markdown",
     "metadata": {},
     "source": [
      "## How often will this compound be a winner?\n",
      "\n"
     ]
    },
    {
     "cell_type": "code",
     "collapsed": false,
     "input": [
      "ntrials = 100\n",
      "omnipotent_success = 0.0\n",
      "apparent_success = 0.0\n",
      "for trial in range(ntrials):\n",
      "    x_n = draw_compounds(N)\n",
      "    # Compute predictions.\n",
      "    DGpredicted_n_samples = model_predictions(x_n, nsample=100)\n",
      "    # Compute actual compound affinities.\n",
      "    DG_n = [ model(x_n[n], Astar) for n in range(N) ]\n",
      "    DGobs_n = [ measure(x_n[n], Astar) for n in range(N) ]\n",
      "    # Make our selection based on expectations.\n",
      "    DG_n_expectations = [ DGpredicted_n_samples[compound_index].mean() for compound_index in range(N) ]\n",
      "    top_choice = argmax(DG_n_expectations)\n",
      "    # Determine whether *any* compound really is better\n",
      "    if any(DGobs_n > DGobs_current):\n",
      "        omnipotent_success += 1.0\n",
      "    # Determine whether we picked a compound that tests to be better.\n",
      "    if (DGobs_n[top_choice] > DGobs_current):\n",
      "        apparent_success += 1.0\n",
      "        \n",
      "print \"Probability that some compound in the batch would be assayed as better than current: %.3f %%\" % (100.0*omnipotent_success/ntrials)\n",
      "print \"Probability that the top predicted expectation would be better than current: %.3f %%\" % (100.0*apparent_success/ntrials)"
     ],
     "language": "python",
     "metadata": {},
     "outputs": [
      {
       "output_type": "stream",
       "stream": "stdout",
       "text": [
        "Probability that some compound in the batch would be assayed as better than current: 93.000 %\n",
        "Probability that the top predicted expectation would be better than current: 74.000 %\n"
       ]
      },
      {
       "output_type": "stream",
       "stream": "stdout",
       "text": [
        "Probability that some compound in the batch would be assayed as better than current: 82.000 %\n",
        "Probability that the top predicted expectation would be better than current: 66.000 %\n"
       ]
      }
     ],
     "prompt_number": 51
    },
    {
     "cell_type": "code",
     "collapsed": false,
     "input": [
      "K = 5 # number of compounds we want to make"
     ],
     "language": "python",
     "metadata": {},
     "outputs": [],
     "prompt_number": 17
    },
    {
     "cell_type": "markdown",
     "metadata": {},
     "source": [
      "## What is the probability that none of our compounds will improve potency?"
     ]
    },
    {
     "cell_type": "code",
     "collapsed": false,
     "input": [
      "ntrials = 100\n",
      "omnipotent_success = 0.0\n",
      "apparent_success = 0.0\n",
      "for trial in range(ntrials):\n",
      "    x_n = draw_compounds(N)\n",
      "    # Compute predictions.\n",
      "    DGpredicted_n_samples = model_predictions(x_n)\n",
      "    DGpredicted_n_expectations = [ DGpredicted_n_samples[compound_index].mean() for compound_index in range(N) ]\n",
      "    # Pick the top K compound predictions.\n",
      "    ranked_compounds = numpy.argsort(DGpredicted_n_expectations)[::-1] # sort in decreasing order\n",
      "    top_compounds = ranked_compounds[0:K] # pick top K compounds\n",
      "    # Compute actual and assayed compound affinities for all compounds.\n",
      "    DG_n = [ model(x_n[n], Astar) for n in range(N) ]\n",
      "    DGobs_n = [ measure(x_n[n], Astar) for n in range(N) ]\n",
      "    # Determine whether *any* compound really is better\n",
      "    if any(DGobs_n > DGobs_current):\n",
      "        omnipotent_success += 1.0\n",
      "    # Determine whether we picked a compound that tests to be better.\n",
      "    if any(numpy.array(DGobs_n)[top_compounds] > DGobs_current):\n",
      "        apparent_success += 1.0\n",
      "        \n",
      "print omnipotent_success\n",
      "print apparent_success\n"
     ],
     "language": "python",
     "metadata": {},
     "outputs": [
      {
       "output_type": "stream",
       "stream": "stdout",
       "text": [
        "88.0\n",
        "83.0\n"
       ]
      }
     ],
     "prompt_number": 18
    },
    {
     "cell_type": "code",
     "collapsed": false,
     "input": [
      "print \"Probability we did not improve potency: %.3f %%\" % (100.0*(ntrials - apparent_success)/ntrials)\n",
      "print \"Probability it was impossible to improve apparent potency: %.3f %%\" % (100.0*(ntrials - omnipotent_success)/ntrials)"
     ],
     "language": "python",
     "metadata": {},
     "outputs": [
      {
       "output_type": "stream",
       "stream": "stdout",
       "text": [
        "Probability we did not improve potency: 17.000 %\n",
        "Probability it was impossible to improve apparent potency: 12.000 %\n"
       ]
      }
     ],
     "prompt_number": 19
    },
    {
     "cell_type": "code",
     "collapsed": false,
     "input": [],
     "language": "python",
     "metadata": {},
     "outputs": [],
     "prompt_number": 9
    },
    {
     "cell_type": "code",
     "collapsed": false,
     "input": [],
     "language": "python",
     "metadata": {},
     "outputs": []
    },
    {
     "cell_type": "code",
     "collapsed": false,
     "input": [],
     "language": "python",
     "metadata": {},
     "outputs": []
    }
   ],
   "metadata": {}
  }
 ]
}