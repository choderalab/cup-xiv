{
 "metadata": {
  "name": ""
 },
 "nbformat": 3,
 "nbformat_minor": 0,
 "worksheets": [
  {
   "cells": [
    {
     "cell_type": "code",
     "collapsed": false,
     "input": [
      "import numpy\n",
      "from numpy import random\n",
      "\n",
      "# Make figures bigger.\n",
      "rcParams['figure.figsize'] = [10, 5]\n",
      "rcParams['font.size'] = 22"
     ],
     "language": "python",
     "metadata": {},
     "outputs": [],
     "prompt_number": 1
    },
    {
     "cell_type": "markdown",
     "metadata": {},
     "source": [
      "# Deciding how to act on model data\n",
      "\n",
      "Suppose we have a predictive model for compound potency, and predict the potencies of $N$ molecules the chemists could potentially make, but they only want to make $K < N$ compounds.\n",
      "\n",
      "For concreteness, let's say $N = 20$ and $K = 5$."
     ]
    },
    {
     "cell_type": "markdown",
     "metadata": {},
     "source": [
      "# Toy model\n",
      "\n",
      "First, we define a simple toy model for our experiments.  \n",
      "\n",
      "Let's assume that each compound has a fingerprint vector ${\\bf x} \\in \\Re^M$, and that we model potency (let's call it $\\Delta G$) with a simple quadratic model\n",
      "$$\\Delta G(x) = {\\bf x}^\\mathrm{T} {\\bf A} {\\bf x}$$\n",
      "where the matrix ${\\bf A} \\in \\Re^{M x M}$ is a matrix of parameters.\n",
      "\n",
      "Let's choose $M = 3$ for simplicity, and assume the real data comes from an unknown *true* model given by ${\\bf A}^*$."
     ]
    },
    {
     "cell_type": "code",
     "collapsed": false,
     "input": [
      "M = 3 # dimensionality of model\n",
      "Astar = random.randn(M,M) # true (unknown) parameters\n",
      "\n",
      "# Define our model.\n",
      "def model(x, A):\n",
      "    from numpy import matrix\n",
      "    return (matrix(x) * matrix(A) * matrix(x).T)[0,0]\n",
      "\n",
      "# Define the error in the measurement process.\n",
      "sigma = 1 # standard error in measurements\n",
      "def measure(x, A):\n",
      "    return model(x,A) + sigma * random.normal()\n",
      "\n",
      "# Define the compound distribution.\n",
      "def draw_compounds(ncompounds):\n",
      "    x = [ random.randn(M) for compound_index in range(ncompounds)]\n",
      "    return x\n",
      "\n",
      "# Generate a training dataset.\n",
      "ntrain = 20 # number of training examples\n",
      "x_training = draw_compounds(ntrain) # draw compound feature vectors\n",
      "DGobs_training = [ measure(x, Astar) for x in x_training]\n",
      "\n",
      "# Plot the measured values.\n",
      "hist(DGobs_training, 1000);\n",
      "xlabel('$\\Delta G_{obs}$ (kcal/mol)');\n",
      "yticks([]);\n",
      "\n",
      "# Let's say our current potency is at max of training set.\n",
      "DGobs_current = max(DGobs_training)\n",
      "x_current = x_training[argmax(DGobs_training)]"
     ],
     "language": "python",
     "metadata": {},
     "outputs": [
      {
       "metadata": {},
       "output_type": "display_data",
       "png": "[encoded data removed]",
       "text": [
        "<matplotlib.figure.Figure at 0x105d56d90>"
       ]
      }
     ],
     "prompt_number": 2
    },
    {
     "cell_type": "markdown",
     "metadata": {},
     "source": [
      "# Training the toy model."
     ]
    },
    {
     "cell_type": "code",
     "collapsed": false,
     "input": [
      "import pymc\n",
      "\n",
      "# Create a pymc model\n",
      "def make_model(x, DGobs_training):\n",
      "    ntrain = len(x)\n",
      "    \n",
      "    A = pymc.Normal('A', mu=0.0, tau=1.0, size=[M,M])\n",
      "\n",
      "    log_sigma = pymc.Uniform('log_sigma', lower=-3, upper=+3, value=0.0)\n",
      "    @pymc.deterministic\n",
      "    def precision(log_sigma=log_sigma):\n",
      "        return 1.0 / numpy.exp(log_sigma)\n",
      "\n",
      "    @pymc.deterministic\n",
      "    def DGmodel(A=A):\n",
      "        DG = numpy.zeros([ntrain])\n",
      "        for i in range(ntrain):\n",
      "            DG[i] = model(x[i], A)\n",
      "        return DG\n",
      "\n",
      "    DGobs = pymc.Normal('DGobs', mu=DGmodel, tau=precision, size=[ntrain], observed=True, value=DGobs_training) # observed data\n",
      "    \n",
      "    # Construct dictionary of model variables.\n",
      "    pymc_model = { 'A' : A, 'log_sigma' : log_sigma, 'precision' : precision, 'DGmodel' : DGmodel, 'DGobs' : DGobs }\n",
      "    return pymc_model\n",
      "\n",
      "pymc_model = pymc.Model(make_model(x_training, DGobs_training))\n",
      "\n",
      "# Sample with MCMC\n",
      "mcmc = pymc.MCMC(pymc_model, db='ram', name='Sampler', verbose=True)\n",
      "mcmc.assign_step_methods()\n",
      "mcmc.sample(iter=10000, burn=5000, thin=10, progress_bar=False)\n",
      "\n",
      "print \"Predicted experimental uncertainty is:\"\n",
      "print (mcmc.precision.trace()**(-1)).mean()\n",
      "print \"sampled A:\"\n",
      "print mcmc.A.value\n",
      "print \"true (unknown) A matrix:\"\n",
      "print Astar\n",
      "\n",
      "# Plot histogram of how much experimental error the MCMC sampler thinks there is.\n",
      "hist(numpy.exp(mcmc.log_sigma.trace()))\n",
      "\n",
      "# Collect the samples of the A matrix.\n",
      "A_samples = mcmc.A.trace()[::10] # thin\n",
      "print len(A_samples)"
     ],
     "language": "python",
     "metadata": {},
     "outputs": [
      {
       "output_type": "stream",
       "stream": "stdout",
       "text": [
        "Predicted experimental uncertainty is:\n",
        "0.775726442637\n",
        "sampled A:\n",
        "[[-1.71851822  0.6599148  -0.50913005]\n",
        " [-1.15327102  0.70416012  0.08513211]\n",
        " [ 0.18842914 -0.62967917 -0.4237249 ]]\n",
        "true (unknown) A matrix:\n",
        "[[-1.89035304 -0.56160427  0.55754829]\n",
        " [-0.07202715  0.48024698 -0.93270013]\n",
        " [-1.44152378  0.27563966 -0.48362347]]\n",
        "50"
       ]
      },
      {
       "output_type": "stream",
       "stream": "stdout",
       "text": [
        "\n"
       ]
      },
      {
       "metadata": {},
       "output_type": "display_data",
       "png": "[encoded data removed]",
       "text": [
        "<matplotlib.figure.Figure at 0x10e95d790>"
       ]
      }
     ],
     "prompt_number": 3
    },
    {
     "cell_type": "code",
     "collapsed": false,
     "input": [
      "x = numpy.array([A[0,0] for A in A_samples]);\n",
      "y = numpy.array([A[0,1] for A in A_samples]);\n",
      "plot(x, y, '.');\n",
      "axis('equal');"
     ],
     "language": "python",
     "metadata": {},
     "outputs": [
      {
       "metadata": {},
       "output_type": "display_data",
       "png": "[encoded data removed]",
       "text": [
        "<matplotlib.figure.Figure at 0x10e996dd0>"
       ]
      }
     ],
     "prompt_number": 4
    },
    {
     "cell_type": "markdown",
     "metadata": {},
     "source": [
      "# Decision-making\n",
      "\n",
      "Suppose the chemists come up with a list of $N = 20$ molecules they might want to make.\n",
      "\n",
      "Our model makes predictions for these."
     ]
    },
    {
     "cell_type": "code",
     "collapsed": false,
     "input": [
      "N = 20 # number of compounds we could possibly make\n",
      "x_n = draw_compounds(N) # fingerprints for these compounds"
     ],
     "language": "python",
     "metadata": {},
     "outputs": [],
     "prompt_number": 5
    },
    {
     "cell_type": "code",
     "collapsed": false,
     "input": [
      "def model_predictions(x_n, nsample=1000):\n",
      "    N = len(x_n)\n",
      "    DGpredicted_n_samples = [ numpy.zeros([nsample]) for compound_index in range(N) ]\n",
      "    # pick a model from our MCMC sampling\n",
      "    index = random.randint(0, len(A_samples))\n",
      "    Amodel = A_samples[index] \n",
      "    # Compute predictions using model\n",
      "    for sample_index in range(nsample):\n",
      "        for compound_index in range(N):\n",
      "            DGpredicted_n_samples[compound_index][sample_index] = measure(x_n[compound_index], Amodel)\n",
      "    return DGpredicted_n_samples\n",
      "\n",
      "# Make predictions.\n",
      "DGpredicted_n_samples = model_predictions(x_n)\n",
      "\n",
      "# Plot predictions.\n",
      "clf()\n",
      "hold(True)\n",
      "nbins = 20\n",
      "colorlist = cm.ScalarMappable(cmap='jet').to_rgba(linspace(0, 1, N));\n",
      "for compound_index in range(N):\n",
      "    color = colorlist[compound_index]; # get a unique color\n",
      "    hist(DGpredicted_n_samples[compound_index], nbins, alpha=0.5, color=color, edgecolor='none'); # plot the sample histogram\n",
      "hold(False)\n",
      "xlabel('$\\Delta G_{pred}$ (kcal/mol)');\n",
      "ylabel('$P(\\Delta G_{obs})$');\n",
      "yticks([]);\n"
     ],
     "language": "python",
     "metadata": {},
     "outputs": [
      {
       "metadata": {},
       "output_type": "display_data",
       "png": "[encoded data removed]",
       "text": [
        "<matplotlib.figure.Figure at 0x107de3f50>"
       ]
      }
     ],
     "prompt_number": 6
    },
    {
     "cell_type": "markdown",
     "metadata": {},
     "source": [
      "# Maximizing the expected potency gain.\n",
      "\n",
      "Suppose we want to pick a *single* compound that maximizes the potency gain.  How would we do that?"
     ]
    },
    {
     "cell_type": "code",
     "collapsed": false,
     "input": [
      "DG_n_expectations = [ DGpredicted_n_samples[compound_index].mean() for compound_index in range(N) ]\n",
      "top_choice = argmax(DG_n_expectations)\n",
      "\n",
      "clf()\n",
      "hist(DG_n_expectations, 1000);\n",
      "hold(True);\n",
      "plot([DGobs_current, DGobs_current], [0, 1], 'r-', linewidth=4);\n",
      "plot(DG_n_expectations[top_choice]*numpy.array([1, 1]), [0, 1], 'b-', linewidth=4);\n",
      "xlabel('$E[\\Delta G_\\mathrm{obs}]$');\n",
      "legend(['current compound', 'top expectation']);\n",
      "yticks([]);"
     ],
     "language": "python",
     "metadata": {},
     "outputs": [
      {
       "metadata": {},
       "output_type": "display_data",
       "png": "[encoded data removed]",
       "text": [
        "<matplotlib.figure.Figure at 0x107ddf750>"
       ]
      }
     ],
     "prompt_number": 7
    },
    {
     "cell_type": "markdown",
     "metadata": {},
     "source": [
      "## How often will this compound be a winner?\n",
      "\n"
     ]
    },
    {
     "cell_type": "code",
     "collapsed": false,
     "input": [
      "ntrials = 1000\n",
      "omnipotent_success = 0.0\n",
      "apparent_success = 0.0\n",
      "for trial in range(ntrials):\n",
      "    x_n = draw_compounds(N)\n",
      "    # Compute predictions.\n",
      "    DGpredicted_n_samples = model_predictions(x_n, nsample=100)\n",
      "    # Compute actual compound affinities.\n",
      "    DG_n = [ model(x_n[n], Astar) for n in range(N) ]\n",
      "    DGobs_n = [ measure(x_n[n], Astar) for n in range(N) ]\n",
      "    # Make our selection based on expectations.\n",
      "    DG_n_expectations = [ DGpredicted_n_samples[compound_index].mean() for compound_index in range(N) ]\n",
      "    top_choice = argmax(DG_n_expectations)\n",
      "    # Determine whether *any* compound really is better\n",
      "    if any(DGobs_n > DGobs_current):\n",
      "        omnipotent_success += 1.0\n",
      "    # Determine whether we picked a compound that tests to be better.\n",
      "    if (DGobs_n[top_choice] > DGobs_current):\n",
      "        apparent_success += 1.0\n",
      "        \n",
      "print \"Probability that some compound in the batch would be assayed as better than current: %.1f %%\" % (100.0*omnipotent_success/ntrials)\n",
      "print \"Probability that the top predicted expectation would be better than current: %.1f %%\" % (100.0*apparent_success/ntrials)"
     ],
     "language": "python",
     "metadata": {},
     "outputs": [
      {
       "output_type": "stream",
       "stream": "stdout",
       "text": [
        "Probability that some compound in the batch would be assayed as better than current: 53.8 %\n",
        "Probability that the top predicted expectation would be better than current: 36.1 %\n"
       ]
      }
     ],
     "prompt_number": 8
    },
    {
     "cell_type": "markdown",
     "metadata": {},
     "source": [
      "## What is the probability that none of our compounds will improve potency?"
     ]
    },
    {
     "cell_type": "code",
     "collapsed": false,
     "input": [
      "K = 5 # number of compounds we want to make\n",
      "\n",
      "ntrials = 1000\n",
      "omnipotent_success = 0.0\n",
      "apparent_success = 0.0\n",
      "for trial in range(ntrials):\n",
      "    x_n = draw_compounds(N)\n",
      "    # Compute predictions.\n",
      "    DGpredicted_n_samples = model_predictions(x_n, nsample=100)\n",
      "    DGpredicted_n_expectations = [ DGpredicted_n_samples[compound_index].mean() for compound_index in range(N) ]\n",
      "    # Pick the top K compound predictions.\n",
      "    ranked_compounds = numpy.argsort(DGpredicted_n_expectations)[::-1] # sort in decreasing order\n",
      "    top_compounds = ranked_compounds[0:K] # pick top K compounds\n",
      "    # Compute actual and assayed compound affinities for all compounds.\n",
      "    DG_n = [ model(x_n[n], Astar) for n in range(N) ]\n",
      "    DGobs_n = [ measure(x_n[n], Astar) for n in range(N) ]\n",
      "    # Determine whether *any* compound really is better\n",
      "    if any(DGobs_n > DGobs_current):\n",
      "        omnipotent_success += 1.0\n",
      "    # Determine whether we picked a compound that tests to be better.\n",
      "    if any(numpy.array(DGobs_n)[top_compounds] > DGobs_current):\n",
      "        apparent_success += 1.0\n",
      "        \n",
      "print omnipotent_success\n",
      "print apparent_success\n"
     ],
     "language": "python",
     "metadata": {},
     "outputs": [
      {
       "output_type": "stream",
       "stream": "stdout",
       "text": [
        "534.0\n",
        "502.0\n"
       ]
      }
     ],
     "prompt_number": 9
    },
    {
     "cell_type": "code",
     "collapsed": false,
     "input": [
      "print \"Probability we did not improve potency: %.1f %%\" % (100.0*(ntrials - apparent_success)/ntrials)\n",
      "print \"Probability it was impossible to improve apparent potency: %.1f %%\" % (100.0*(ntrials - omnipotent_success)/ntrials)"
     ],
     "language": "python",
     "metadata": {},
     "outputs": [
      {
       "output_type": "stream",
       "stream": "stdout",
       "text": [
        "Probability we did not improve potency: 49.8 %\n",
        "Probability it was impossible to improve apparent potency: 46.6 %\n"
       ]
      }
     ],
     "prompt_number": 10
    },
    {
     "cell_type": "markdown",
     "metadata": {},
     "source": [
      "# Can we minimize the probability we do not improve potency?"
     ]
    },
    {
     "cell_type": "code",
     "collapsed": false,
     "input": [
      "ntrials = 1000\n",
      "omnipotent_success = 0.0\n",
      "apparent_success = 0.0\n",
      "for trial in range(ntrials):\n",
      "    x_n = draw_compounds(N)\n",
      "    # Compute predictions.\n",
      "    DGpredicted_n_samples = model_predictions(x_n, nsample=100)\n",
      "    Pfailure_n = [ (DGpredicted_n_samples[compound_index] < DGobs_current).mean() for compound_index in range(N) ]\n",
      "    # Minimize probability of failure.\n",
      "    ranked_compounds = numpy.argsort(Pfailure_n)\n",
      "    top_compounds = ranked_compounds[0:K]\n",
      "    # Compute actual and assayed compound affinities for all compounds.\n",
      "    DG_n = [ model(x_n[n], Astar) for n in range(N) ]\n",
      "    DGobs_n = [ measure(x_n[n], Astar) for n in range(N) ]\n",
      "    # Determine whether *any* compound really is better\n",
      "    if any(DGobs_n > DGobs_current):\n",
      "        omnipotent_success += 1.0\n",
      "    # Determine whether we picked a compound that tests to be better.\n",
      "    if any(numpy.array(DGobs_n)[top_compounds] > DGobs_current):\n",
      "        apparent_success += 1.0\n",
      "        \n",
      "print omnipotent_success\n",
      "print apparent_success"
     ],
     "language": "python",
     "metadata": {},
     "outputs": [
      {
       "output_type": "stream",
       "stream": "stdout",
       "text": [
        "566.0\n",
        "539.0\n"
       ]
      }
     ],
     "prompt_number": 11
    },
    {
     "cell_type": "code",
     "collapsed": false,
     "input": [
      "print \"Probability we did not improve potency: %.1f %%\" % (100.0*(ntrials - apparent_success)/ntrials)\n",
      "print \"Probability it was impossible to improve apparent potency: %.1f %%\" % (100.0*(ntrials - omnipotent_success)/ntrials)"
     ],
     "language": "python",
     "metadata": {},
     "outputs": [
      {
       "output_type": "stream",
       "stream": "stdout",
       "text": [
        "Probability we did not improve potency: 46.1 %\n",
        "Probability it was impossible to improve apparent potency: 43.4 %\n"
       ]
      }
     ],
     "prompt_number": 12
    },
    {
     "cell_type": "code",
     "collapsed": false,
     "input": [
      "print \"Probability we did improve potency: %.1f %%\" % (100.0*apparent_success/ntrials)"
     ],
     "language": "python",
     "metadata": {},
     "outputs": [
      {
       "output_type": "stream",
       "stream": "stdout",
       "text": [
        "Probability we did improve potency: 53.9 %\n"
       ]
      }
     ],
     "prompt_number": 13
    },
    {
     "cell_type": "code",
     "collapsed": false,
     "input": [],
     "language": "python",
     "metadata": {},
     "outputs": [],
     "prompt_number": 14
    },
    {
     "cell_type": "code",
     "collapsed": false,
     "input": [],
     "language": "python",
     "metadata": {},
     "outputs": [],
     "prompt_number": 14
    },
    {
     "cell_type": "code",
     "collapsed": false,
     "input": [],
     "language": "python",
     "metadata": {},
     "outputs": [],
     "prompt_number": 14
    }
   ],
   "metadata": {}
  }
 ]
}